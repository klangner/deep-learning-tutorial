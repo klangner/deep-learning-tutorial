{
 "cells": [
  {
   "cell_type": "markdown",
   "metadata": {},
   "source": [
    "# License plate detection and recognition using CNN and RNN"
   ]
  },
  {
   "cell_type": "markdown",
   "metadata": {},
   "source": [
    "Based on the publication: http://arxiv.org/abs/1601.05610\n",
    "\n",
    "  * CTC - Connectionist Temporal Classification\n",
    "  * NMS - Non Maximal Suppresion\n",
    "  * CCA - Connected Component Analysis\n",
    "  * LBP - Local Binary Pattern"
   ]
  },
  {
   "cell_type": "markdown",
   "metadata": {},
   "source": [
    "Recognition is done in the following steps:\n",
    "\n",
    "  * Apply sliding window : Image -> ImageWindows\n",
    "  * Recognize letters : ImageWindows -> Symbol\n",
    "  * Build heat map : Image -> ImageWindows -> Symbol -> Heatmap\n",
    "  * Find possible plate position : Heatmap -> PlateFrame\n",
    "  * Detect license plate : PlateFrame -> IsFrame\n",
    "  * Refine plate box : PlateFrame -> PlateFrame\n",
    "  * Read plate symbols : PlateFrame -> Symbol -> [Symbols]"
   ]
  }
 ],
 "metadata": {
  "kernelspec": {
   "display_name": "Python 3",
   "language": "python",
   "name": "python3"
  },
  "language_info": {
   "codemirror_mode": {
    "name": "ipython",
    "version": 3
   },
   "file_extension": ".py",
   "mimetype": "text/x-python",
   "name": "python",
   "nbconvert_exporter": "python",
   "pygments_lexer": "ipython3",
   "version": "3.4.4"
  }
 },
 "nbformat": 4,
 "nbformat_minor": 0
}
