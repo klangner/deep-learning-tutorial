{
 "cells": [
  {
   "cell_type": "markdown",
   "metadata": {
    "colab_type": "text",
    "id": "kR-4eNdK6lYS"
   },
   "source": [
    "Deep Learning\n",
    "=============\n",
    "\n",
    "Assignment 3\n",
    "------------\n",
    "\n",
    "Previously in `2_fullyconnected.ipynb`, you trained a logistic regression and a neural network model.\n",
    "\n",
    "The goal of this assignment is to explore regularization techniques."
   ]
  },
  {
   "cell_type": "code",
   "execution_count": 1,
   "metadata": {
    "cellView": "both",
    "colab": {
     "autoexec": {
      "startup": false,
      "wait_interval": 0
     }
    },
    "colab_type": "code",
    "collapsed": true,
    "id": "JLpLa8Jt7Vu4"
   },
   "outputs": [],
   "source": [
    "# These are all the modules we'll be using later. Make sure you can import them\n",
    "# before proceeding further.\n",
    "from __future__ import print_function\n",
    "import numpy as np\n",
    "import tensorflow as tf\n",
    "from six.moves import cPickle as pickle"
   ]
  },
  {
   "cell_type": "markdown",
   "metadata": {
    "colab_type": "text",
    "id": "1HrCK6e17WzV"
   },
   "source": [
    "First reload the data we generated in _notmist.ipynb_."
   ]
  },
  {
   "cell_type": "code",
   "execution_count": 2,
   "metadata": {
    "cellView": "both",
    "colab": {
     "autoexec": {
      "startup": false,
      "wait_interval": 0
     },
     "output_extras": [
      {
       "item_id": 1
      }
     ]
    },
    "colab_type": "code",
    "collapsed": false,
    "executionInfo": {
     "elapsed": 11777,
     "status": "ok",
     "timestamp": 1449849322348,
     "user": {
      "color": "",
      "displayName": "",
      "isAnonymous": false,
      "isMe": true,
      "permissionId": "",
      "photoUrl": "",
      "sessionId": "0",
      "userId": ""
     },
     "user_tz": 480
    },
    "id": "y3-cj1bpmuxc",
    "outputId": "e03576f1-ebbe-4838-c388-f1777bcc9873"
   },
   "outputs": [
    {
     "name": "stdout",
     "output_type": "stream",
     "text": [
      "Training set (200000, 28, 28) (200000,)\n",
      "Validation set (10000, 28, 28) (10000,)\n",
      "Test set (10000, 28, 28) (10000,)\n"
     ]
    }
   ],
   "source": [
    "pickle_file = 'notMNIST.pickle'\n",
    "\n",
    "with open(pickle_file, 'rb') as f:\n",
    "  save = pickle.load(f)\n",
    "  train_dataset = save['train_dataset']\n",
    "  train_labels = save['train_labels']\n",
    "  valid_dataset = save['valid_dataset']\n",
    "  valid_labels = save['valid_labels']\n",
    "  test_dataset = save['test_dataset']\n",
    "  test_labels = save['test_labels']\n",
    "  del save  # hint to help gc free up memory\n",
    "  print('Training set', train_dataset.shape, train_labels.shape)\n",
    "  print('Validation set', valid_dataset.shape, valid_labels.shape)\n",
    "  print('Test set', test_dataset.shape, test_labels.shape)"
   ]
  },
  {
   "cell_type": "markdown",
   "metadata": {
    "colab_type": "text",
    "id": "L7aHrm6nGDMB"
   },
   "source": [
    "Reformat into a shape that's more adapted to the models we're going to train:\n",
    "- data as a flat matrix,\n",
    "- labels as float 1-hot encodings."
   ]
  },
  {
   "cell_type": "code",
   "execution_count": 3,
   "metadata": {
    "cellView": "both",
    "colab": {
     "autoexec": {
      "startup": false,
      "wait_interval": 0
     },
     "output_extras": [
      {
       "item_id": 1
      }
     ]
    },
    "colab_type": "code",
    "collapsed": false,
    "executionInfo": {
     "elapsed": 11728,
     "status": "ok",
     "timestamp": 1449849322356,
     "user": {
      "color": "",
      "displayName": "",
      "isAnonymous": false,
      "isMe": true,
      "permissionId": "",
      "photoUrl": "",
      "sessionId": "0",
      "userId": ""
     },
     "user_tz": 480
    },
    "id": "IRSyYiIIGIzS",
    "outputId": "3f8996ee-3574-4f44-c953-5c8a04636582"
   },
   "outputs": [
    {
     "name": "stdout",
     "output_type": "stream",
     "text": [
      "Training set (200000, 784) (200000, 10)\n",
      "Validation set (10000, 784) (10000, 10)\n",
      "Test set (10000, 784) (10000, 10)\n"
     ]
    }
   ],
   "source": [
    "image_size = 28\n",
    "num_labels = 10\n",
    "\n",
    "def reformat(dataset, labels):\n",
    "  dataset = dataset.reshape((-1, image_size * image_size)).astype(np.float32)\n",
    "  # Map 2 to [0.0, 1.0, 0.0 ...], 3 to [0.0, 0.0, 1.0 ...]\n",
    "  labels = (np.arange(num_labels) == labels[:,None]).astype(np.float32)\n",
    "  return dataset, labels\n",
    "train_dataset, train_labels = reformat(train_dataset, train_labels)\n",
    "valid_dataset, valid_labels = reformat(valid_dataset, valid_labels)\n",
    "test_dataset, test_labels = reformat(test_dataset, test_labels)\n",
    "print('Training set', train_dataset.shape, train_labels.shape)\n",
    "print('Validation set', valid_dataset.shape, valid_labels.shape)\n",
    "print('Test set', test_dataset.shape, test_labels.shape)"
   ]
  },
  {
   "cell_type": "code",
   "execution_count": 4,
   "metadata": {
    "cellView": "both",
    "colab": {
     "autoexec": {
      "startup": false,
      "wait_interval": 0
     }
    },
    "colab_type": "code",
    "collapsed": true,
    "id": "RajPLaL_ZW6w"
   },
   "outputs": [],
   "source": [
    "def accuracy(predictions, labels):\n",
    "  return (100.0 * np.sum(np.argmax(predictions, 1) == np.argmax(labels, 1))\n",
    "          / predictions.shape[0])"
   ]
  },
  {
   "cell_type": "markdown",
   "metadata": {
    "colab_type": "text",
    "id": "sgLbUAQ1CW-1"
   },
   "source": [
    "---\n",
    "Problem 1\n",
    "---------\n",
    "\n",
    "Introduce and tune L2 regularization for both logistic and neural network models. Remember that L2 amounts to adding a penalty on the norm of the weights to the loss. In TensorFlow, you can compute the L2 loss for a tensor `t` using `nn.l2_loss(t)`. The right amount of regularization should improve your validation / test accuracy.\n",
    "\n",
    "---"
   ]
  },
  {
   "cell_type": "markdown",
   "metadata": {},
   "source": [
    "## Logistic"
   ]
  },
  {
   "cell_type": "code",
   "execution_count": 5,
   "metadata": {
    "collapsed": false
   },
   "outputs": [],
   "source": [
    "batch_size = 128\n",
    "l2_alfa = 0.003\n",
    "\n",
    "graph = tf.Graph()\n",
    "with graph.as_default():\n",
    "\n",
    "    # Input data. For the training data, we use a placeholder that will be fed\n",
    "    # at run time with a training minibatch.\n",
    "    tf_train_dataset = tf.placeholder(tf.float32, shape=(batch_size, image_size * image_size))\n",
    "    tf_train_labels = tf.placeholder(tf.float32, shape=(batch_size, num_labels))\n",
    "    tf_valid_dataset = tf.constant(valid_dataset)\n",
    "    tf_test_dataset = tf.constant(test_dataset)\n",
    "  \n",
    "    # Variables.\n",
    "    weights = tf.Variable(tf.truncated_normal([image_size * image_size, num_labels]))\n",
    "    biases = tf.Variable(tf.zeros([num_labels]))\n",
    "  \n",
    "    # Training computation.\n",
    "    logits = tf.matmul(tf_train_dataset, weights) + biases\n",
    "    l2 = l2_alfa * tf.nn.l2_loss(weights)\n",
    "    loss = tf.reduce_mean(tf.nn.softmax_cross_entropy_with_logits(logits, tf_train_labels)) + l2\n",
    "  \n",
    "    # Optimizer.\n",
    "    optimizer = tf.train.GradientDescentOptimizer(0.5).minimize(loss)\n",
    "  \n",
    "    # Predictions for the training, validation, and test data.\n",
    "    train_prediction = tf.nn.softmax(logits)\n",
    "    valid_prediction = tf.nn.softmax(tf.matmul(tf_valid_dataset, weights) + biases)\n",
    "    test_prediction = tf.nn.softmax(tf.matmul(tf_test_dataset, weights) + biases)"
   ]
  },
  {
   "cell_type": "code",
   "execution_count": 7,
   "metadata": {
    "collapsed": false
   },
   "outputs": [
    {
     "name": "stdout",
     "output_type": "stream",
     "text": [
      "Initialized\n",
      "Minibatch loss at step 0: 27.505627\n",
      "Minibatch accuracy: 7.8%\n",
      "Validation accuracy: 12.8%\n",
      "Test accuracy: 13.2%\n",
      "Minibatch loss at step 500: 2.638179\n",
      "Minibatch accuracy: 79.7%\n",
      "Validation accuracy: 78.2%\n",
      "Test accuracy: 85.1%\n",
      "Minibatch loss at step 1000: 1.232659\n",
      "Minibatch accuracy: 78.1%\n",
      "Validation accuracy: 81.8%\n",
      "Test accuracy: 88.1%\n",
      "Minibatch loss at step 1500: 0.963136\n",
      "Minibatch accuracy: 76.6%\n",
      "Validation accuracy: 82.7%\n",
      "Test accuracy: 88.8%\n",
      "Minibatch loss at step 2000: 0.652613\n",
      "Minibatch accuracy: 85.9%\n",
      "Validation accuracy: 81.6%\n",
      "Test accuracy: 88.2%\n",
      "Minibatch loss at step 2500: 0.689939\n",
      "Minibatch accuracy: 79.7%\n",
      "Validation accuracy: 82.4%\n",
      "Test accuracy: 89.0%\n",
      "Minibatch loss at step 3000: 0.564014\n",
      "Minibatch accuracy: 84.4%\n",
      "Validation accuracy: 82.8%\n",
      "Test accuracy: 89.0%\n",
      "Done.\n"
     ]
    }
   ],
   "source": [
    "num_steps = 3001\n",
    "\n",
    "with tf.Session(graph=graph) as session:\n",
    "    tf.initialize_all_variables().run()\n",
    "    print(\"Initialized\")\n",
    "    for step in range(num_steps):\n",
    "        # Pick an offset within the training data, which has been randomized.\n",
    "        # Note: we could use better randomization across epochs.\n",
    "        offset = (step * batch_size) % (train_labels.shape[0] - batch_size)\n",
    "        # Generate a minibatch.\n",
    "        batch_data = train_dataset[offset:(offset + batch_size), :]\n",
    "        batch_labels = train_labels[offset:(offset + batch_size), :]\n",
    "        # Prepare a dictionary telling the session where to feed the minibatch.\n",
    "        # The key of the dictionary is the placeholder node of the graph to be fed,\n",
    "        # and the value is the numpy array to feed to it.\n",
    "        feed_dict = {tf_train_dataset : batch_data, tf_train_labels : batch_labels}\n",
    "        _, l, predictions = session.run([optimizer, loss, train_prediction], feed_dict=feed_dict)\n",
    "        if (step % 500 == 0):\n",
    "            print(\"Minibatch loss at step %d: %f\" % (step, l))\n",
    "            print(\"Minibatch accuracy: %.1f%%\" % accuracy(predictions, batch_labels))\n",
    "            print(\"Validation accuracy: %.1f%%\" % accuracy(valid_prediction.eval(), valid_labels))\n",
    "            print(\"Test accuracy: %.1f%%\" % accuracy(test_prediction.eval(), test_labels))\n",
    "print('Done.')            "
   ]
  },
  {
   "cell_type": "markdown",
   "metadata": {},
   "source": [
    "  * Bez L2 Test accuracy: 86.3%\n",
    "  * Z 0.003 * L2 89%"
   ]
  },
  {
   "cell_type": "markdown",
   "metadata": {},
   "source": [
    "## 1 hidden layer"
   ]
  },
  {
   "cell_type": "code",
   "execution_count": 8,
   "metadata": {
    "collapsed": true
   },
   "outputs": [],
   "source": [
    "batch_size = 128\n",
    "hidden_count = 1024\n",
    "l2_alfa = 0.001\n",
    "\n",
    "graph = tf.Graph()\n",
    "with graph.as_default():\n",
    "\n",
    "    # Input data. For the training data\n",
    "    tf_train_dataset = tf.placeholder(tf.float32, shape=(None, image_size * image_size))\n",
    "    tf_train_labels = tf.placeholder(tf.float32, shape=(None, num_labels))\n",
    "    tf_valid_dataset = tf.constant(valid_dataset)\n",
    "    tf_test_dataset = tf.constant(test_dataset)\n",
    "  \n",
    "    # Variables.\n",
    "    wh = tf.Variable(tf.truncated_normal([image_size * image_size, hidden_count]))\n",
    "    bh = tf.Variable(tf.zeros([hidden_count]))\n",
    "    weights = tf.Variable(tf.truncated_normal([hidden_count, num_labels]))\n",
    "    biases = tf.Variable(tf.zeros([num_labels]))\n",
    "  \n",
    "    # Training computation.\n",
    "    h1 = tf.nn.relu(tf.matmul(tf_train_dataset, wh) + bh)\n",
    "    logits = tf.matmul(h1, weights) + biases\n",
    "    l2 = l2_alfa * (tf.nn.l2_loss(wh) + tf.nn.l2_loss(weights))\n",
    "    loss = tf.reduce_mean(tf.nn.softmax_cross_entropy_with_logits(logits, tf_train_labels)) + l2\n",
    "  \n",
    "    # Optimizer.\n",
    "    optimizer = tf.train.GradientDescentOptimizer(0.5).minimize(loss)\n",
    "  \n",
    "    # Predictions for the training, validation, and test data.\n",
    "    model = tf.nn.softmax(logits)"
   ]
  },
  {
   "cell_type": "code",
   "execution_count": 9,
   "metadata": {
    "collapsed": false
   },
   "outputs": [
    {
     "name": "stdout",
     "output_type": "stream",
     "text": [
      "Initialized\n",
      "Minibatch loss at step 0: 688.913452\n",
      "Minibatch accuracy: 8.6%\n",
      "Validation accuracy: 34.7%\n",
      "Test accuracy: 36.8%\n",
      "Minibatch loss at step 500: 199.977463\n",
      "Minibatch accuracy: 71.9%\n",
      "Validation accuracy: 78.0%\n",
      "Test accuracy: 83.9%\n",
      "Minibatch loss at step 1000: 115.556396\n",
      "Minibatch accuracy: 75.8%\n",
      "Validation accuracy: 81.5%\n",
      "Test accuracy: 88.1%\n",
      "Minibatch loss at step 1500: 69.374603\n",
      "Minibatch accuracy: 79.7%\n",
      "Validation accuracy: 82.3%\n",
      "Test accuracy: 88.4%\n",
      "Minibatch loss at step 2000: 41.268394\n",
      "Minibatch accuracy: 85.9%\n",
      "Validation accuracy: 85.6%\n",
      "Test accuracy: 91.4%\n",
      "Minibatch loss at step 2500: 25.373905\n",
      "Minibatch accuracy: 82.8%\n",
      "Validation accuracy: 86.8%\n",
      "Test accuracy: 92.4%\n",
      "Minibatch loss at step 3000: 15.318479\n",
      "Minibatch accuracy: 89.8%\n",
      "Validation accuracy: 87.5%\n",
      "Test accuracy: 93.0%\n",
      "Done.\n"
     ]
    }
   ],
   "source": [
    "num_steps = 3001\n",
    "\n",
    "with tf.Session(graph=graph) as session:\n",
    "    tf.initialize_all_variables().run()\n",
    "    print(\"Initialized\")\n",
    "    for step in range(num_steps):\n",
    "        # Pick an offset within the training data, which has been randomized.\n",
    "        # Note: we could use better randomization across epochs.\n",
    "        offset = (step * batch_size) % (train_labels.shape[0] - batch_size)\n",
    "        # Generate a minibatch.\n",
    "        batch_data = train_dataset[offset:(offset + batch_size), :]\n",
    "        batch_labels = train_labels[offset:(offset + batch_size), :]\n",
    "        # Prepare a dictionary telling the session where to feed the minibatch.\n",
    "        feed_dict = {tf_train_dataset : batch_data, tf_train_labels : batch_labels}\n",
    "        _, l, predictions = session.run([optimizer, loss, model], feed_dict=feed_dict)\n",
    "        if (step % 500 == 0):\n",
    "            print(\"Minibatch loss at step %d: %f\" % (step, l))\n",
    "            print(\"Minibatch accuracy: %.1f%%\" % accuracy(predictions, batch_labels))\n",
    "            valid = session.run(model, feed_dict={tf_train_dataset: valid_dataset})\n",
    "            print(\"Validation accuracy: %.1f%%\" % accuracy(valid, valid_labels))\n",
    "            test = session.run(model, feed_dict={tf_train_dataset: test_dataset})\n",
    "            print(\"Test accuracy: %.1f%%\" % accuracy(test, test_labels))\n",
    "print('Done.')            "
   ]
  },
  {
   "cell_type": "markdown",
   "metadata": {},
   "source": [
    "  * Bez L2: Najlepszy wynik: 88.5%\n",
    "  * l2_alfa = 0.001: 93.3%"
   ]
  },
  {
   "cell_type": "markdown",
   "metadata": {
    "colab_type": "text",
    "id": "na8xX2yHZzNF"
   },
   "source": [
    "---\n",
    "Problem 2\n",
    "---------\n",
    "Let's demonstrate an extreme case of overfitting. Restrict your training data to just a few batches. What happens?\n",
    "\n",
    "---"
   ]
  },
  {
   "cell_type": "code",
   "execution_count": 12,
   "metadata": {
    "collapsed": false
   },
   "outputs": [
    {
     "name": "stdout",
     "output_type": "stream",
     "text": [
      "Initialized\n",
      "Minibatch loss at step 0: 294.313049\n",
      "Minibatch accuracy: 7.8%\n",
      "Validation accuracy: 39.7%\n",
      "Test accuracy: 42.2%\n",
      "Minibatch loss at step 500: 0.160908\n",
      "Minibatch accuracy: 99.2%\n",
      "Validation accuracy: 80.5%\n",
      "Test accuracy: 86.9%\n",
      "Minibatch loss at step 1000: 0.000000\n",
      "Minibatch accuracy: 100.0%\n",
      "Validation accuracy: 80.0%\n",
      "Test accuracy: 86.9%\n",
      "Minibatch loss at step 1500: 0.000000\n",
      "Minibatch accuracy: 100.0%\n",
      "Validation accuracy: 80.0%\n",
      "Test accuracy: 86.9%\n",
      "Minibatch loss at step 2000: 0.000000\n",
      "Minibatch accuracy: 100.0%\n",
      "Validation accuracy: 80.0%\n",
      "Test accuracy: 86.9%\n",
      "Minibatch loss at step 2500: 0.000000\n",
      "Minibatch accuracy: 100.0%\n",
      "Validation accuracy: 80.0%\n",
      "Test accuracy: 86.9%\n",
      "Minibatch loss at step 3000: 0.000000\n",
      "Minibatch accuracy: 100.0%\n",
      "Validation accuracy: 80.0%\n",
      "Test accuracy: 86.9%\n",
      "Done.\n"
     ]
    }
   ],
   "source": [
    "batch_size = 128\n",
    "hidden_count = 1024\n",
    "\n",
    "graph = tf.Graph()\n",
    "with graph.as_default():\n",
    "\n",
    "    # Input data. For the training data\n",
    "    tf_train_dataset = tf.placeholder(tf.float32, shape=(None, image_size * image_size))\n",
    "    tf_train_labels = tf.placeholder(tf.float32, shape=(None, num_labels))\n",
    "    tf_valid_dataset = tf.constant(valid_dataset)\n",
    "    tf_test_dataset = tf.constant(test_dataset)\n",
    "  \n",
    "    # Variables.\n",
    "    wh = tf.Variable(tf.truncated_normal([image_size * image_size, hidden_count]))\n",
    "    bh = tf.Variable(tf.zeros([hidden_count]))\n",
    "    weights = tf.Variable(tf.truncated_normal([hidden_count, num_labels]))\n",
    "    biases = tf.Variable(tf.zeros([num_labels]))\n",
    "  \n",
    "    # Training computation.\n",
    "    h1 = tf.nn.relu(tf.matmul(tf_train_dataset, wh) + bh)\n",
    "    logits = tf.matmul(h1, weights) + biases\n",
    "    loss = tf.reduce_mean(tf.nn.softmax_cross_entropy_with_logits(logits, tf_train_labels))\n",
    "  \n",
    "    # Optimizer.\n",
    "    optimizer = tf.train.GradientDescentOptimizer(0.5).minimize(loss)\n",
    "  \n",
    "    # Predictions for the training, validation, and test data.\n",
    "    model = tf.nn.softmax(logits)\n",
    "    \n",
    "num_steps = 3001\n",
    "\n",
    "with tf.Session(graph=graph) as session:\n",
    "    tf.initialize_all_variables().run()\n",
    "    print(\"Initialized\")\n",
    "    for step in range(num_steps):\n",
    "        # Pick an offset within the training data, which has been randomized.\n",
    "        # Note: we could use better randomization across epochs.\n",
    "        offset = (step * batch_size) % (20 * batch_size)\n",
    "        # Generate a minibatch.\n",
    "        batch_data = train_dataset[offset:(offset + batch_size), :]\n",
    "        batch_labels = train_labels[offset:(offset + batch_size), :]\n",
    "        # Prepare a dictionary telling the session where to feed the minibatch.\n",
    "        feed_dict = {tf_train_dataset : batch_data, tf_train_labels : batch_labels}\n",
    "        _, l, predictions = session.run([optimizer, loss, model], feed_dict=feed_dict)\n",
    "        if (step % 500 == 0):\n",
    "            print(\"Minibatch loss at step %d: %f\" % (step, l))\n",
    "            print(\"Minibatch accuracy: %.1f%%\" % accuracy(predictions, batch_labels))\n",
    "            valid = session.run(model, feed_dict={tf_train_dataset: valid_dataset})\n",
    "            print(\"Validation accuracy: %.1f%%\" % accuracy(valid, valid_labels))\n",
    "            test = session.run(model, feed_dict={tf_train_dataset: test_dataset})\n",
    "            print(\"Test accuracy: %.1f%%\" % accuracy(test, test_labels))    \n",
    "print('Done.')"
   ]
  },
  {
   "cell_type": "markdown",
   "metadata": {
    "colab_type": "text",
    "id": "ww3SCBUdlkRc"
   },
   "source": [
    "---\n",
    "Problem 3\n",
    "---------\n",
    "Introduce Dropout on the hidden layer of the neural network. Remember: Dropout should only be introduced during training, not evaluation, otherwise your evaluation results would be stochastic as well. TensorFlow provides `nn.dropout()` for that, but you have to make sure it's only inserted during training.\n",
    "\n",
    "What happens to our extreme overfitting case?\n",
    "\n",
    "---"
   ]
  },
  {
   "cell_type": "markdown",
   "metadata": {},
   "source": [
    "### Dla mniejszego zbioru danych"
   ]
  },
  {
   "cell_type": "code",
   "execution_count": 13,
   "metadata": {
    "collapsed": false
   },
   "outputs": [
    {
     "name": "stdout",
     "output_type": "stream",
     "text": [
      "Initialized\n",
      "Minibatch loss at step 0: 493.836914\n",
      "Minibatch accuracy: 9.4%\n",
      "Validation accuracy: 32.3%\n",
      "Test accuracy: 33.7%\n",
      "Minibatch loss at step 500: 11.829367\n",
      "Minibatch accuracy: 94.5%\n",
      "Validation accuracy: 81.3%\n",
      "Test accuracy: 87.9%\n",
      "Minibatch loss at step 1000: 1.289527\n",
      "Minibatch accuracy: 95.3%\n",
      "Validation accuracy: 81.7%\n",
      "Test accuracy: 88.3%\n",
      "Minibatch loss at step 1500: 0.976872\n",
      "Minibatch accuracy: 97.7%\n",
      "Validation accuracy: 81.9%\n",
      "Test accuracy: 88.5%\n",
      "Minibatch loss at step 2000: 0.000001\n",
      "Minibatch accuracy: 100.0%\n",
      "Validation accuracy: 82.0%\n",
      "Test accuracy: 88.7%\n",
      "Minibatch loss at step 2500: 0.000052\n",
      "Minibatch accuracy: 100.0%\n",
      "Validation accuracy: 82.3%\n",
      "Test accuracy: 88.4%\n",
      "Minibatch loss at step 3000: 0.013458\n",
      "Minibatch accuracy: 99.2%\n",
      "Validation accuracy: 82.0%\n",
      "Test accuracy: 88.7%\n",
      "Done.\n"
     ]
    }
   ],
   "source": [
    "batch_size = 128\n",
    "hidden_count = 1024\n",
    "\n",
    "graph = tf.Graph()\n",
    "with graph.as_default():\n",
    "\n",
    "    # Input data. For the training data\n",
    "    tf_train_dataset = tf.placeholder(tf.float32, shape=(None, image_size * image_size))\n",
    "    tf_train_labels = tf.placeholder(tf.float32, shape=(None, num_labels))\n",
    "    tf_keep_prob = tf.placeholder(\"float\")\n",
    "    tf_valid_dataset = tf.constant(valid_dataset)\n",
    "    tf_test_dataset = tf.constant(test_dataset)\n",
    "  \n",
    "    # Variables.\n",
    "    wh = tf.Variable(tf.truncated_normal([image_size * image_size, hidden_count]))\n",
    "    bh = tf.Variable(tf.zeros([hidden_count]))\n",
    "    weights = tf.Variable(tf.truncated_normal([hidden_count, num_labels]))\n",
    "    biases = tf.Variable(tf.zeros([num_labels]))\n",
    "  \n",
    "    # Training computation.\n",
    "    h1 = tf.nn.relu(tf.matmul(tf_train_dataset, wh) + bh)\n",
    "    h1_drop = tf.nn.dropout(h1, tf_keep_prob)\n",
    "    logits = tf.matmul(h1_drop, weights) + biases\n",
    "    loss = tf.reduce_mean(tf.nn.softmax_cross_entropy_with_logits(logits, tf_train_labels))\n",
    "  \n",
    "    # Optimizer.\n",
    "    optimizer = tf.train.GradientDescentOptimizer(0.5).minimize(loss)\n",
    "  \n",
    "    # Predictions for the training, validation, and test data.\n",
    "    model = tf.nn.softmax(logits)\n",
    "    \n",
    "num_steps = 3001\n",
    "\n",
    "with tf.Session(graph=graph) as session:\n",
    "    tf.initialize_all_variables().run()\n",
    "    print(\"Initialized\")\n",
    "    for step in range(num_steps):\n",
    "        # Pick an offset within the training data, which has been randomized.\n",
    "        # Note: we could use better randomization across epochs.\n",
    "        offset = (step * batch_size) % (20 * batch_size)\n",
    "        # Generate a minibatch.\n",
    "        batch_data = train_dataset[offset:(offset + batch_size), :]\n",
    "        batch_labels = train_labels[offset:(offset + batch_size), :]\n",
    "        # Prepare a dictionary telling the session where to feed the minibatch.\n",
    "        feed_dict = {tf_train_dataset : batch_data, tf_train_labels : batch_labels, tf_keep_prob: 0.5}\n",
    "        _, l, predictions = session.run([optimizer, loss, model], feed_dict=feed_dict)\n",
    "        if (step % 500 == 0):\n",
    "            print(\"Minibatch loss at step %d: %f\" % (step, l))\n",
    "            print(\"Minibatch accuracy: %.1f%%\" % accuracy(predictions, batch_labels))\n",
    "            valid = session.run(model, feed_dict={tf_train_dataset: valid_dataset, tf_keep_prob: 1})\n",
    "            print(\"Validation accuracy: %.1f%%\" % accuracy(valid, valid_labels))\n",
    "            test = session.run(model, feed_dict={tf_train_dataset: test_dataset, tf_keep_prob: 1})\n",
    "            print(\"Test accuracy: %.1f%%\" % accuracy(test, test_labels))    \n",
    "print('Done.')"
   ]
  },
  {
   "cell_type": "markdown",
   "metadata": {},
   "source": [
    "Best result with dropout: 88.7% (without 86.9%)"
   ]
  },
  {
   "cell_type": "markdown",
   "metadata": {},
   "source": [
    "### Dla pełnego zbioru danych"
   ]
  },
  {
   "cell_type": "code",
   "execution_count": 16,
   "metadata": {
    "collapsed": false
   },
   "outputs": [
    {
     "name": "stdout",
     "output_type": "stream",
     "text": [
      "Initialized\n",
      "Minibatch loss at step 0: 500.403381\n",
      "Minibatch accuracy: 7.8%\n",
      "Validation accuracy: 28.8%\n",
      "Test accuracy: 31.0%\n",
      "Minibatch loss at step 1000: 14.514444\n",
      "Minibatch accuracy: 73.4%\n",
      "Validation accuracy: 81.3%\n",
      "Test accuracy: 87.7%\n",
      "Minibatch loss at step 2000: 6.388087\n",
      "Minibatch accuracy: 73.4%\n",
      "Validation accuracy: 80.5%\n",
      "Test accuracy: 87.2%\n",
      "Minibatch loss at step 3000: 3.866124\n",
      "Minibatch accuracy: 76.6%\n",
      "Validation accuracy: 79.9%\n",
      "Test accuracy: 85.8%\n",
      "Minibatch loss at step 4000: 10.567472\n",
      "Minibatch accuracy: 71.9%\n",
      "Validation accuracy: 80.8%\n",
      "Test accuracy: 87.2%\n",
      "Minibatch loss at step 5000: 2.317041\n",
      "Minibatch accuracy: 82.0%\n",
      "Validation accuracy: 81.1%\n",
      "Test accuracy: 87.6%\n",
      "Minibatch loss at step 6000: 1.574266\n",
      "Minibatch accuracy: 78.1%\n",
      "Validation accuracy: 82.0%\n",
      "Test accuracy: 88.3%\n",
      "Minibatch loss at step 7000: 1.330148\n",
      "Minibatch accuracy: 75.0%\n",
      "Validation accuracy: 81.9%\n",
      "Test accuracy: 88.4%\n",
      "Minibatch loss at step 8000: 2.262365\n",
      "Minibatch accuracy: 76.6%\n",
      "Validation accuracy: 81.8%\n",
      "Test accuracy: 88.5%\n",
      "Minibatch loss at step 9000: 1.515166\n",
      "Minibatch accuracy: 71.1%\n",
      "Validation accuracy: 82.2%\n",
      "Test accuracy: 88.9%\n",
      "Minibatch loss at step 10000: 2.117944\n",
      "Minibatch accuracy: 71.9%\n",
      "Validation accuracy: 82.2%\n",
      "Test accuracy: 89.0%\n",
      "Done.\n"
     ]
    }
   ],
   "source": [
    "batch_size = 128\n",
    "hidden_count = 1024\n",
    "\n",
    "graph = tf.Graph()\n",
    "with graph.as_default():\n",
    "\n",
    "    # Input data. For the training data\n",
    "    tf_train_dataset = tf.placeholder(tf.float32, shape=(None, image_size * image_size))\n",
    "    tf_train_labels = tf.placeholder(tf.float32, shape=(None, num_labels))\n",
    "    tf_keep_prob = tf.placeholder(\"float\")\n",
    "    tf_valid_dataset = tf.constant(valid_dataset)\n",
    "    tf_test_dataset = tf.constant(test_dataset)\n",
    "  \n",
    "    # Variables.\n",
    "    wh = tf.Variable(tf.truncated_normal([image_size * image_size, hidden_count]))\n",
    "    bh = tf.Variable(tf.zeros([hidden_count]))\n",
    "    weights = tf.Variable(tf.truncated_normal([hidden_count, num_labels]))\n",
    "    biases = tf.Variable(tf.zeros([num_labels]))\n",
    "  \n",
    "    # Training computation.\n",
    "    h1 = tf.nn.relu(tf.matmul(tf_train_dataset, wh) + bh)\n",
    "    h1_drop = tf.nn.dropout(h1, tf_keep_prob)\n",
    "    logits = tf.matmul(h1_drop, weights) + biases\n",
    "    loss = tf.reduce_mean(tf.nn.softmax_cross_entropy_with_logits(logits, tf_train_labels))\n",
    "  \n",
    "    # Optimizer.\n",
    "    optimizer = tf.train.GradientDescentOptimizer(0.5).minimize(loss)\n",
    "  \n",
    "    # Predictions for the training, validation, and test data.\n",
    "    model = tf.nn.softmax(logits)\n",
    "    \n",
    "num_steps = 10001\n",
    "\n",
    "with tf.Session(graph=graph) as session:\n",
    "    tf.initialize_all_variables().run()\n",
    "    print(\"Initialized\")\n",
    "    for step in range(num_steps):\n",
    "        offset = (step * batch_size) % (train_labels.shape[0] - batch_size)\n",
    "        # Generate a minibatch.\n",
    "        batch_data = train_dataset[offset:(offset + batch_size), :]\n",
    "        batch_labels = train_labels[offset:(offset + batch_size), :]\n",
    "        # Prepare a dictionary telling the session where to feed the minibatch.\n",
    "        feed_dict = {tf_train_dataset : batch_data, tf_train_labels : batch_labels, tf_keep_prob: 0.5}\n",
    "        _, l, predictions = session.run([optimizer, loss, model], feed_dict=feed_dict)\n",
    "        if (step % 1000 == 0):\n",
    "            print(\"Minibatch loss at step %d: %f\" % (step, l))\n",
    "            print(\"Minibatch accuracy: %.1f%%\" % accuracy(predictions, batch_labels))\n",
    "            valid = session.run(model, feed_dict={tf_train_dataset: valid_dataset, tf_keep_prob: 1})\n",
    "            print(\"Validation accuracy: %.1f%%\" % accuracy(valid, valid_labels))\n",
    "            test = session.run(model, feed_dict={tf_train_dataset: test_dataset, tf_keep_prob: 1})\n",
    "            print(\"Test accuracy: %.1f%%\" % accuracy(test, test_labels))    \n",
    "print('Done.')"
   ]
  },
  {
   "cell_type": "markdown",
   "metadata": {},
   "source": [
    "Best result with 1000 epoch is 89%"
   ]
  },
  {
   "cell_type": "markdown",
   "metadata": {
    "colab_type": "text",
    "id": "-b1hTz3VWZjw"
   },
   "source": [
    "---\n",
    "Problem 4\n",
    "---------\n",
    "\n",
    "Try to get the best performance you can using a multi-layer model! The best reported test accuracy using a deep network is [97.1%](http://yaroslavvb.blogspot.com/2011/09/notmnist-dataset.html?showComment=1391023266211#c8758720086795711595).\n",
    "\n",
    "One avenue you can explore is to add multiple layers.\n",
    "\n",
    "Another one is to use learning rate decay:\n",
    "\n",
    "    global_step = tf.Variable(0)  # count the number of steps taken.\n",
    "    learning_rate = tf.train.exponential_decay(0.5, global_step, ...)\n",
    "    optimizer = tf.train.GradientDescentOptimizer(learning_rate).minimize(loss, global_step=global_step)\n",
    " \n",
    " ---\n"
   ]
  },
  {
   "cell_type": "code",
   "execution_count": 5,
   "metadata": {
    "collapsed": false
   },
   "outputs": [
    {
     "name": "stdout",
     "output_type": "stream",
     "text": [
      "Initialized\n",
      "Minibatch loss at step 0: 192.071411\n",
      "Minibatch accuracy: 8.6%\n",
      "Validation accuracy: 11.3%\n",
      "Test accuracy: 11.6%\n",
      "Minibatch loss at step 1000: 4.244045\n",
      "Minibatch accuracy: 48.4%\n",
      "Validation accuracy: 48.0%\n",
      "Test accuracy: 52.9%\n",
      "Minibatch loss at step 2000: 3.552507\n",
      "Minibatch accuracy: 44.5%\n",
      "Validation accuracy: 53.0%\n",
      "Test accuracy: 57.5%\n",
      "Minibatch loss at step 3000: 2.868275\n",
      "Minibatch accuracy: 57.0%\n",
      "Validation accuracy: 61.0%\n",
      "Test accuracy: 66.7%\n",
      "Minibatch loss at step 4000: 2.727026\n",
      "Minibatch accuracy: 50.8%\n",
      "Validation accuracy: 62.4%\n",
      "Test accuracy: 68.7%\n",
      "Minibatch loss at step 5000: 2.396410\n",
      "Minibatch accuracy: 52.3%\n",
      "Validation accuracy: 59.6%\n",
      "Test accuracy: 65.8%\n",
      "Minibatch loss at step 6000: 2.812232\n",
      "Minibatch accuracy: 53.1%\n",
      "Validation accuracy: 64.9%\n",
      "Test accuracy: 72.3%\n",
      "Minibatch loss at step 7000: 1.542667\n",
      "Minibatch accuracy: 64.1%\n",
      "Validation accuracy: 69.6%\n",
      "Test accuracy: 76.8%\n",
      "Minibatch loss at step 8000: 1.799317\n",
      "Minibatch accuracy: 60.9%\n",
      "Validation accuracy: 66.6%\n",
      "Test accuracy: 73.1%\n",
      "Minibatch loss at step 9000: 1.988181\n",
      "Minibatch accuracy: 60.2%\n",
      "Validation accuracy: 72.0%\n",
      "Test accuracy: 78.9%\n",
      "Minibatch loss at step 10000: 2.026445\n",
      "Minibatch accuracy: 55.5%\n",
      "Validation accuracy: 68.0%\n",
      "Test accuracy: 75.2%\n",
      "Done.\n"
     ]
    }
   ],
   "source": [
    "batch_size = 128\n",
    "hidden_count1 = 1024\n",
    "hidden_count2 = 512\n",
    "\n",
    "graph = tf.Graph()\n",
    "with graph.as_default():\n",
    "\n",
    "    # Input data. For the training data\n",
    "    tf_train_dataset = tf.placeholder(tf.float32, shape=(None, image_size * image_size))\n",
    "    tf_train_labels = tf.placeholder(tf.float32, shape=(None, num_labels))\n",
    "    tf_keep_prob = tf.placeholder(\"float\")\n",
    "    tf_valid_dataset = tf.constant(valid_dataset)\n",
    "    tf_test_dataset = tf.constant(test_dataset)\n",
    "  \n",
    "    # Variables.\n",
    "    wh1 = tf.Variable(tf.truncated_normal([image_size * image_size, hidden_count1]))\n",
    "    bh1 = tf.Variable(tf.zeros([hidden_count1]))\n",
    "    wh2 = tf.Variable(tf.truncated_normal([hidden_count1, hidden_count2]))\n",
    "    bh2 = tf.Variable(tf.zeros([hidden_count2]))\n",
    "    weights = tf.Variable(tf.truncated_normal([hidden_count2, num_labels]))\n",
    "    biases = tf.Variable(tf.zeros([num_labels]))\n",
    "  \n",
    "    # Training computation.\n",
    "    h1 = tf.nn.relu6(tf.matmul(tf_train_dataset, wh1) + bh1)\n",
    "    h1_drop = tf.nn.dropout(h1, tf_keep_prob)\n",
    "    h2 = tf.nn.relu6(tf.matmul(h1_drop, wh2) + bh2)\n",
    "    h2_drop = tf.nn.dropout(h2, tf_keep_prob)\n",
    "    logits = tf.matmul(h2_drop, weights) + biases\n",
    "    loss = tf.reduce_mean(tf.nn.softmax_cross_entropy_with_logits(logits, tf_train_labels))\n",
    "  \n",
    "    optimizer = tf.train.GradientDescentOptimizer(0.5).minimize(loss)\n",
    "    # Predictions for the training, validation, and test data.\n",
    "    model = tf.nn.softmax(logits)\n",
    "    \n",
    "num_steps = 10001\n",
    "\n",
    "with tf.Session(graph=graph) as session:\n",
    "    tf.initialize_all_variables().run()\n",
    "    print(\"Initialized\")\n",
    "    for step in range(num_steps):\n",
    "        offset = (step * batch_size) % (train_labels.shape[0] - batch_size)\n",
    "        # Generate a minibatch.\n",
    "        batch_data = train_dataset[offset:(offset + batch_size), :]\n",
    "        batch_labels = train_labels[offset:(offset + batch_size), :]\n",
    "        # Prepare a dictionary telling the session where to feed the minibatch.\n",
    "        feed_dict = {tf_train_dataset : batch_data, tf_train_labels : batch_labels, tf_keep_prob: 0.5}\n",
    "        _, l, predictions = session.run([optimizer, loss, model], feed_dict=feed_dict)\n",
    "        if (step % 1000 == 0):\n",
    "            print(\"Minibatch loss at step %d: %f\" % (step, l))\n",
    "            print(\"Minibatch accuracy: %.1f%%\" % accuracy(predictions, batch_labels))\n",
    "            valid = session.run(model, feed_dict={tf_train_dataset: valid_dataset, tf_keep_prob: 1})\n",
    "            print(\"Validation accuracy: %.1f%%\" % accuracy(valid, valid_labels))\n",
    "            test = session.run(model, feed_dict={tf_train_dataset: test_dataset, tf_keep_prob: 1})\n",
    "            print(\"Test accuracy: %.1f%%\" % accuracy(test, test_labels))    \n",
    "print('Done.')"
   ]
  },
  {
   "cell_type": "markdown",
   "metadata": {},
   "source": [
    "Najlepszy wynik 76%"
   ]
  }
 ],
 "metadata": {
  "colab": {
   "default_view": {},
   "name": "3_regularization.ipynb",
   "provenance": [],
   "version": "0.3.2",
   "views": {}
  },
  "kernelspec": {
   "display_name": "Python 2",
   "language": "python",
   "name": "python2"
  },
  "language_info": {
   "codemirror_mode": {
    "name": "ipython",
    "version": 2
   },
   "file_extension": ".py",
   "mimetype": "text/x-python",
   "name": "python",
   "nbconvert_exporter": "python",
   "pygments_lexer": "ipython2",
   "version": "2.7.11"
  }
 },
 "nbformat": 4,
 "nbformat_minor": 0
}
